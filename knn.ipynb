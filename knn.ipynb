{
 "cells": [
  {
   "attachments": {},
   "cell_type": "markdown",
   "metadata": {},
   "source": [
    "# Python機械学習クックブック"
   ]
  },
  {
   "cell_type": "code",
   "execution_count": 1,
   "metadata": {},
   "outputs": [],
   "source": [
    "from sklearn import datasets\n",
    "from sklearn.neighbors import NearestNeighbors\n",
    "from sklearn.neighbors import KNeighborsClassifier\n",
    "from sklearn.neighbors import RadiusNeighborsClassifier\n",
    "\n",
    "from sklearn.preprocessing import StandardScaler\n",
    "\n",
    "from sklearn.pipeline import Pipeline, FeatureUnion\n",
    "from sklearn.model_selection import GridSearchCV"
   ]
  },
  {
   "attachments": {},
   "cell_type": "markdown",
   "metadata": {},
   "source": [
    "## 観測値の近傍の発見"
   ]
  },
  {
   "cell_type": "code",
   "execution_count": 3,
   "metadata": {},
   "outputs": [
    {
     "name": "stdout",
     "output_type": "stream",
     "text": [
      "[[[1.03800476 0.55861082 1.10378283 1.18556721]\n",
      "  [0.79566902 0.32841405 0.76275827 1.05393502]]]\n",
      "[[0.49140089 0.74294782]]\n"
     ]
    }
   ],
   "source": [
    "iris = datasets.load_iris()\n",
    "features = iris.data\n",
    "\n",
    "# 標準化器の作成\n",
    "standardizer = StandardScaler()\n",
    "\n",
    "# 特徴量の標準化\n",
    "features_standardized = standardizer.fit_transform(features)\n",
    "\n",
    "# 2-最近傍法分類器の作成\n",
    "nearest_neighbors = NearestNeighbors(n_neighbors=2).fit(features_standardized)\n",
    "\n",
    "# ある観測値と最も近い観測値のインデックスを取得\n",
    "new_observation = [1, 1, 1, 1]\n",
    "distances, indices = nearest_neighbors.kneighbors([new_observation])\n",
    "\n",
    "# 最も近い観測値を表示\n",
    "print(features_standardized[indices])\n",
    "\n",
    "# 距離を表示\n",
    "print(distances)"
   ]
  },
  {
   "attachments": {},
   "cell_type": "markdown",
   "metadata": {},
   "source": [
    "## k-最近傍法クラス分類器の作成"
   ]
  },
  {
   "cell_type": "code",
   "execution_count": 5,
   "metadata": {},
   "outputs": [
    {
     "name": "stdout",
     "output_type": "stream",
     "text": [
      "[1 2]\n",
      "[[0.  0.6 0.4]\n",
      " [0.  0.  1. ]]\n"
     ]
    }
   ],
   "source": [
    "iris = datasets.load_iris()\n",
    "features = iris.data\n",
    "target = iris.target\n",
    "\n",
    "# 標準化器の作成\n",
    "standardizer = StandardScaler()\n",
    "\n",
    "# 特徴量の標準化\n",
    "features_standardized = standardizer.fit_transform(features)\n",
    "\n",
    "# 近傍数を5にしたKNN分類器の作成\n",
    "knn = KNeighborsClassifier(n_neighbors=5, n_jobs=-1).fit(\n",
    "    features_standardized, target\n",
    ")\n",
    "\n",
    "# 新しい観測値を2つ作成\n",
    "new_observation = [[0.75, 0.75, 0.75, 0.75], [1, 1, 1, 1]]\n",
    "\n",
    "# 2つの観測値のクラスを予測\n",
    "print(knn.predict(new_observation))\n",
    "\n",
    "# 2つの観測値のクラスの予測確率を表示\n",
    "print(knn.predict_proba(new_observation))"
   ]
  },
  {
   "attachments": {},
   "cell_type": "markdown",
   "metadata": {},
   "source": [
    "## 最適な近傍サイズの特定"
   ]
  },
  {
   "cell_type": "code",
   "execution_count": 7,
   "metadata": {},
   "outputs": [
    {
     "name": "stdout",
     "output_type": "stream",
     "text": [
      "6\n"
     ]
    }
   ],
   "source": [
    "iris = datasets.load_iris()\n",
    "features = iris.data\n",
    "target = iris.target\n",
    "\n",
    "# 標準化器の作成\n",
    "standardizer = StandardScaler()\n",
    "\n",
    "# 特徴量の標準化\n",
    "features_standardized = standardizer.fit_transform(features)\n",
    "\n",
    "# 近傍数を5にしたKNN分類器の作成\n",
    "knn = KNeighborsClassifier(n_neighbors=5, n_jobs=-1).fit(\n",
    "    features_standardized, target\n",
    ")\n",
    "\n",
    "# パイプラインの作成\n",
    "pipe = Pipeline([(\"standardizer\", standardizer), (\"knn\", knn)])\n",
    "\n",
    "# ハイパーパラメータの作成\n",
    "search_space = [{\"knn__n_neighbors\": [1, 2, 3, 4, 5, 6, 7, 8, 9, 10]}]\n",
    "\n",
    "# グリッドサーチの作成\n",
    "classifier = GridSearchCV(\n",
    "    pipe, search_space, cv=5, verbose=0).fit(features_standardized, target)\n",
    "\n",
    "# 最良の近傍数を表示\n",
    "print(classifier.best_estimator_.get_params()[\"knn__n_neighbors\"])\n"
   ]
  },
  {
   "attachments": {},
   "cell_type": "markdown",
   "metadata": {},
   "source": [
    "## 半径を用いた最近傍クラス分類器の作成"
   ]
  },
  {
   "cell_type": "code",
   "execution_count": 8,
   "metadata": {},
   "outputs": [
    {
     "name": "stdout",
     "output_type": "stream",
     "text": [
      "[2]\n"
     ]
    }
   ],
   "source": [
    "iris = datasets.load_iris()\n",
    "features = iris.data\n",
    "target = iris.target\n",
    "\n",
    "# 標準化器の作成\n",
    "standardizer = StandardScaler()\n",
    "\n",
    "# 特徴量の標準化\n",
    "features_standardized = standardizer.fit_transform(features)\n",
    "\n",
    "# 近傍数を5にしたKNN分類器の作成\n",
    "knn = KNeighborsClassifier(n_neighbors=5, n_jobs=-1).fit(\n",
    "    features_standardized, target\n",
    ")\n",
    "\n",
    "# 観測値を作成\n",
    "new_observations = [[1, 1, 1, 1]]\n",
    "\n",
    "# 観測値のクラスを予測\n",
    "print(knn.predict(new_observations))"
   ]
  }
 ],
 "metadata": {
  "kernelspec": {
   "display_name": "Python 3",
   "language": "python",
   "name": "python3"
  },
  "language_info": {
   "codemirror_mode": {
    "name": "ipython",
    "version": 3
   },
   "file_extension": ".py",
   "mimetype": "text/x-python",
   "name": "python",
   "nbconvert_exporter": "python",
   "pygments_lexer": "ipython3",
   "version": "3.8.10"
  },
  "orig_nbformat": 4
 },
 "nbformat": 4,
 "nbformat_minor": 2
}
