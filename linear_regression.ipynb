{
 "cells": [
  {
   "attachments": {},
   "cell_type": "markdown",
   "metadata": {},
   "source": [
    "# Python機械学習クックブック"
   ]
  },
  {
   "cell_type": "code",
   "execution_count": 26,
   "metadata": {},
   "outputs": [],
   "source": [
    "import numpy as np\n",
    "import pandas as pd\n",
    "from sklearn.linear_model import LinearRegression, Ridge, Lasso, RidgeCV\n",
    "from sklearn.datasets import load_boston\n",
    "from sklearn.preprocessing import PolynomialFeatures, StandardScaler"
   ]
  },
  {
   "attachments": {},
   "cell_type": "markdown",
   "metadata": {},
   "source": [
    "## 直線によるフィッティング"
   ]
  },
  {
   "cell_type": "code",
   "execution_count": 10,
   "metadata": {},
   "outputs": [
    {
     "name": "stdout",
     "output_type": "stream",
     "text": [
      "22.485628113468223\n",
      "[-0.35207832  0.11610909]\n",
      "予測値: 24573.366631705547\n",
      "正解: 24000.0\n"
     ]
    }
   ],
   "source": [
    "import warnings\n",
    "\n",
    "warnings.simplefilter(\"ignore\")\n",
    "\n",
    "boston = load_boston()\n",
    "features = boston.data[:, 0:2]\n",
    "target = boston.target\n",
    "\n",
    "# 線形回帰モデルを作成\n",
    "regression = LinearRegression()\n",
    "\n",
    "# 線形回帰モデルを訓練\n",
    "model = regression.fit(features, target)\n",
    "\n",
    "# 切片を表示\n",
    "print(model.intercept_)\n",
    "\n",
    "# 特徴量の重みを表示\n",
    "print(model.coef_)\n",
    "\n",
    "# 目的変数を予測\n",
    "print(\"予測値:\", model.predict(features)[0] * 1000)\n",
    "print(\"正解:\", target[0] * 1000)"
   ]
  },
  {
   "attachments": {},
   "cell_type": "markdown",
   "metadata": {},
   "source": [
    "## 交互作用の影響の取り扱い"
   ]
  },
  {
   "cell_type": "code",
   "execution_count": 14,
   "metadata": {},
   "outputs": [
    {
     "name": "stdout",
     "output_type": "stream",
     "text": [
      "[6.32e-03 1.80e+01]\n",
      "0.11376\n"
     ]
    }
   ],
   "source": [
    "boston = load_boston()\n",
    "features = boston.data[:, 0:2]\n",
    "target = boston.target\n",
    "\n",
    "# 交互作用項を作成\n",
    "interaction = PolynomialFeatures(\n",
    "    degree=3, include_bias=False, interaction_only=True\n",
    ")\n",
    "features_interaction = interaction.fit_transform(features)\n",
    "\n",
    "# 線形回帰モデルを作成\n",
    "regression = LinearRegression()\n",
    "\n",
    "# 線形回帰モデルを訓練\n",
    "model = regression.fit(features_interaction, target)\n",
    "\n",
    "# 最初の観測値の特徴量の値を表示\n",
    "print(features[0])\n",
    "\n",
    "# 個々の観測値に対して、交互作用項を表示\n",
    "interaction_term = np.multiply(features[:, 0], features[:, 1])\n",
    "print(interaction_term[0])"
   ]
  },
  {
   "attachments": {},
   "cell_type": "markdown",
   "metadata": {},
   "source": [
    "## 非線形な関係の学習"
   ]
  },
  {
   "cell_type": "code",
   "execution_count": 17,
   "metadata": {},
   "outputs": [
    {
     "name": "stdout",
     "output_type": "stream",
     "text": [
      "[0.00632]\n",
      "[6.32000000e-03 3.99424000e-05 2.52435968e-07]\n"
     ]
    }
   ],
   "source": [
    "boston = load_boston()\n",
    "features = boston.data[:, 0:1]\n",
    "target = boston.target\n",
    "\n",
    "# 多項式特徴量 x^2 と x^3 を作成\n",
    "polynomial = PolynomialFeatures(degree=3, include_bias=False)\n",
    "features_polynomial = polynomial.fit_transform(features)\n",
    "\n",
    "# 線形回帰モデルを作成\n",
    "regression = LinearRegression()\n",
    "\n",
    "# 線形回帰モデルを訓練\n",
    "model = regression.fit(features_polynomial, target)\n",
    "\n",
    "# 特徴量の値を表示\n",
    "print(features[0])\n",
    "\n",
    "# 特徴量の2乗と3乗の値を表示\n",
    "print(features_polynomial[0])"
   ]
  },
  {
   "attachments": {},
   "cell_type": "markdown",
   "metadata": {},
   "source": [
    "## 正則化によるバリアンスの低減"
   ]
  },
  {
   "cell_type": "code",
   "execution_count": 28,
   "metadata": {},
   "outputs": [
    {
     "name": "stdout",
     "output_type": "stream",
     "text": [
      "[-0.91987132  1.06646104  0.11738487  0.68512693 -2.02901013  2.68275376\n",
      "  0.01315848 -3.07733968  2.59153764 -2.0105579  -2.05238455  0.84884839\n",
      " -3.73066646]\n",
      "1.0\n"
     ]
    }
   ],
   "source": [
    "boston = load_boston()\n",
    "features = boston.data\n",
    "target = boston.target\n",
    "\n",
    "# 特徴量を標準化\n",
    "scaler = StandardScaler()\n",
    "features_standardized = scaler.fit_transform(features)\n",
    "\n",
    "# alpha値を指定してリッジ回帰器を作成\n",
    "regression = Ridge(alpha=0.5)\n",
    "\n",
    "# リッジ回帰器を訓練\n",
    "model = regression.fit(features_standardized, target)\n",
    "\n",
    "# 3つの係数を表示を指定してリッジ回帰器を作成\n",
    "regr_cv = RidgeCV(alphas=[0.1, 1.0, 10.0])\n",
    "\n",
    "# リッジ回帰器を訓練\n",
    "model_cv = regr_cv.fit(features_standardized, target)\n",
    "\n",
    "# 係数を表示\n",
    "print(model_cv.coef_)\n",
    "\n",
    "# alpha値を表示\n",
    "print(model_cv.alpha_)"
   ]
  },
  {
   "attachments": {},
   "cell_type": "markdown",
   "metadata": {},
   "source": [
    "## Lasso回帰による特徴量削減"
   ]
  },
  {
   "cell_type": "code",
   "execution_count": 30,
   "metadata": {},
   "outputs": [
    {
     "name": "stdout",
     "output_type": "stream",
     "text": [
      "[-0.11526463  0.         -0.          0.39707879 -0.          2.97425861\n",
      " -0.         -0.17056942 -0.         -0.         -1.59844856  0.54313871\n",
      " -3.66614361]\n",
      "[-0.  0. -0.  0. -0.  0. -0.  0. -0. -0. -0.  0. -0.]\n"
     ]
    }
   ],
   "source": [
    "boston = load_boston()\n",
    "features = boston.data\n",
    "target = boston.target\n",
    "\n",
    "# 特徴量を標準化\n",
    "scaler = StandardScaler()\n",
    "features_standardized = scaler.fit_transform(features)\n",
    "\n",
    "# alpha値を指定してラッソ回帰器を作成\n",
    "regression = Lasso(alpha=0.5)\n",
    "\n",
    "# ラッソ回帰器を訓練\n",
    "model = regression.fit(features_standardized, target)\n",
    "\n",
    "# 係数を表示\n",
    "print(model.coef_)\n",
    "\n",
    "# alpha値を大きくしてラッソ回帰器を作成(特徴量が使われなくなってしまう)\n",
    "regression_a10 = Lasso(alpha=10)\n",
    "model_a10 = regression_a10.fit(features_standardized, target)\n",
    "\n",
    "# 係数を表示\n",
    "print(model_a10.coef_)\n"
   ]
  },
  {
   "cell_type": "code",
   "execution_count": null,
   "metadata": {},
   "outputs": [],
   "source": []
  }
 ],
 "metadata": {
  "kernelspec": {
   "display_name": "Python 3",
   "language": "python",
   "name": "python3"
  },
  "language_info": {
   "codemirror_mode": {
    "name": "ipython",
    "version": 3
   },
   "file_extension": ".py",
   "mimetype": "text/x-python",
   "name": "python",
   "nbconvert_exporter": "python",
   "pygments_lexer": "ipython3",
   "version": "3.8.10"
  },
  "orig_nbformat": 4
 },
 "nbformat": 4,
 "nbformat_minor": 2
}
