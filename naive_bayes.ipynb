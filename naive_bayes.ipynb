{
 "cells": [
  {
   "attachments": {},
   "cell_type": "markdown",
   "metadata": {},
   "source": [
    "# Python機械学習クックブック"
   ]
  },
  {
   "cell_type": "code",
   "execution_count": 2,
   "metadata": {},
   "outputs": [],
   "source": [
    "import numpy as np\n",
    "\n",
    "from sklearn import datasets\n",
    "from sklearn.naive_bayes import GaussianNB\n",
    "from sklearn.naive_bayes import MultinomialNB\n",
    "from sklearn.naive_bayes import BernoulliNB\n",
    "\n",
    "from sklearn.feature_extraction.text import CountVectorizer\n",
    "from sklearn.calibration import CalibratedClassifierCV"
   ]
  },
  {
   "attachments": {},
   "cell_type": "markdown",
   "metadata": {},
   "source": [
    "## 連続値特徴量に対するクラス分類器の訓練"
   ]
  },
  {
   "cell_type": "code",
   "execution_count": 3,
   "metadata": {},
   "outputs": [
    {
     "data": {
      "text/plain": [
       "array([1])"
      ]
     },
     "execution_count": 3,
     "metadata": {},
     "output_type": "execute_result"
    }
   ],
   "source": [
    "iris = datasets.load_iris()\n",
    "feature = iris.data\n",
    "target = iris.target\n",
    "\n",
    "# ガウシアンナイーブベイズ分類器を作成\n",
    "classifier = GaussianNB()\n",
    "\n",
    "# モデルを訓練\n",
    "model = classifier.fit(feature, target)\n",
    "\n",
    "# 新しい観測値を作成\n",
    "new_observation = [[ 4,  4,  4,  0.4]]\n",
    "\n",
    "# クラスを予測\n",
    "model.predict(new_observation)"
   ]
  },
  {
   "attachments": {},
   "cell_type": "markdown",
   "metadata": {},
   "source": [
    "## 離散値特徴量とカウント特徴量に対する分類器の訓練"
   ]
  },
  {
   "cell_type": "code",
   "execution_count": 5,
   "metadata": {},
   "outputs": [
    {
     "data": {
      "text/plain": [
       "array([0])"
      ]
     },
     "execution_count": 5,
     "metadata": {},
     "output_type": "execute_result"
    }
   ],
   "source": [
    "text_data = np.array(\n",
    "    [\"I love Brazil. Brazil!\", \"Brazil is best\", \"Germany beats both\"]\n",
    ")\n",
    "\n",
    "# BoW特徴量行列を作成\n",
    "count = CountVectorizer()\n",
    "bag_of_words = count.fit_transform(text_data)\n",
    "\n",
    "# BoW特徴量行列を表示\n",
    "bag_of_words.toarray()\n",
    "\n",
    "# 特徴量ベクトルを作成\n",
    "features = np.array([0, 1, 0])\n",
    "\n",
    "# 多項ナイーブベイズ分類器を作成\n",
    "classifier = MultinomialNB(class_prior=[0.25, 0.5])\n",
    "\n",
    "# モデルを訓練\n",
    "model = classifier.fit(bag_of_words, features)\n",
    "\n",
    "# クラスを予測\n",
    "model.predict(bag_of_words[2])"
   ]
  },
  {
   "attachments": {},
   "cell_type": "markdown",
   "metadata": {},
   "source": [
    "## 2クラス特徴量に対するナイーブベイズクラス分類機の訓練"
   ]
  },
  {
   "cell_type": "code",
   "execution_count": 6,
   "metadata": {},
   "outputs": [],
   "source": [
    "# 2値特徴量を作成\n",
    "features = np.random.randint(2, size=(100, 3))\n",
    "\n",
    "# 2値ターゲットベクトルを作成\n",
    "target = np.random.randint(2, size=(100, 1)).ravel()\n",
    "\n",
    "# ベルヌーイナイーブベイズ分類器を作成\n",
    "classifier = BernoulliNB(class_prior=[0.25, 0.5])\n",
    "\n",
    "# モデルを訓練\n",
    "model = classifier.fit(features, target)"
   ]
  },
  {
   "attachments": {},
   "cell_type": "markdown",
   "metadata": {},
   "source": [
    "## 予測確率の較正"
   ]
  },
  {
   "cell_type": "code",
   "execution_count": 10,
   "metadata": {},
   "outputs": [
    {
     "name": "stdout",
     "output_type": "stream",
     "text": [
      "[[0.31859969 0.63663466 0.04476565]]\n",
      "[[2.31548432e-04 9.99768128e-01 3.23532277e-07]]\n"
     ]
    }
   ],
   "source": [
    "iris = datasets.load_iris()\n",
    "features = iris.data\n",
    "target = iris.target\n",
    "\n",
    "# ガウシアンナイーブベイズ分類器を作成\n",
    "classifier = GaussianNB()\n",
    "\n",
    "# シグモイド較正を指定して、クロスバリデーションを作成\n",
    "classifer_sigmoid = CalibratedClassifierCV(classifier, cv=2, method='sigmoid')\n",
    "\n",
    "# 予測確率を較正\n",
    "classifer_sigmoid.fit(features, target)\n",
    "\n",
    "# 新しい観測値を作成\n",
    "new_observation = [[ 2.6,  2.6,  2.6,  0.4]]\n",
    "\n",
    "# 較正された確率を表示\n",
    "print(classifer_sigmoid.predict_proba(new_observation))\n",
    "\n",
    "# 構成前の確率を表示\n",
    "print(classifier.fit(feature,target).predict_proba(new_observation))\n"
   ]
  }
 ],
 "metadata": {
  "kernelspec": {
   "display_name": "Python 3",
   "language": "python",
   "name": "python3"
  },
  "language_info": {
   "codemirror_mode": {
    "name": "ipython",
    "version": 3
   },
   "file_extension": ".py",
   "mimetype": "text/x-python",
   "name": "python",
   "nbconvert_exporter": "python",
   "pygments_lexer": "ipython3",
   "version": "3.8.10"
  },
  "orig_nbformat": 4
 },
 "nbformat": 4,
 "nbformat_minor": 2
}
