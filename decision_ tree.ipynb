{
 "cells": [
  {
   "attachments": {},
   "cell_type": "markdown",
   "metadata": {},
   "source": [
    "# Python機械学習クックブック"
   ]
  },
  {
   "cell_type": "code",
   "execution_count": 43,
   "metadata": {},
   "outputs": [],
   "source": [
    "import numpy as np\n",
    "import matplotlib.pyplot as plt\n",
    "\n",
    "from sklearn.tree import DecisionTreeClassifier\n",
    "from sklearn.tree import DecisionTreeRegressor\n",
    "from sklearn.ensemble import RandomForestClassifier\n",
    "from sklearn.ensemble import AdaBoostClassifier\n",
    "\n",
    "from sklearn.feature_selection import SelectFromModel\n",
    "from sklearn import datasets\n",
    "import pydotplus\n",
    "from IPython.display import Image\n",
    "from sklearn import tree"
   ]
  },
  {
   "attachments": {},
   "cell_type": "markdown",
   "metadata": {},
   "source": [
    "## 決定機を用いたクラス分類器の訓練"
   ]
  },
  {
   "cell_type": "code",
   "execution_count": 5,
   "metadata": {},
   "outputs": [
    {
     "name": "stdout",
     "output_type": "stream",
     "text": [
      "[1]\n",
      "[[0. 1. 0.]]\n"
     ]
    }
   ],
   "source": [
    "iris = datasets.load_iris()\n",
    "features = iris.data\n",
    "target = iris.target\n",
    "\n",
    "# 決定木クラス分類器オブジェクトを作成\n",
    "decisiontree = DecisionTreeClassifier(random_state=0)\n",
    "\n",
    "# 決定木クラス分類器を訓練\n",
    "model = decisiontree.fit(features, target)\n",
    "\n",
    "# 決定木クラス分類器を使って観測値を予測\n",
    "observation = [[5, 4, 3, 2]]\n",
    "print(model.predict(observation))\n",
    "\n",
    "# 決定木クラス分類器を使って観測値のクラス確率を予測\n",
    "print(model.predict_proba(observation))\n",
    "\n",
    "\n"
   ]
  },
  {
   "attachments": {},
   "cell_type": "markdown",
   "metadata": {},
   "source": [
    "## 決定木回帰器の訓練"
   ]
  },
  {
   "cell_type": "code",
   "execution_count": 18,
   "metadata": {},
   "outputs": [
    {
     "name": "stdout",
     "output_type": "stream",
     "text": [
      "MSEを使ったモデルの予測値: [33.]\n",
      "MAEを使ったモデルの予測値: [33.]\n"
     ]
    }
   ],
   "source": [
    "import warnings\n",
    "warnings.simplefilter(\"ignore\")\n",
    "\n",
    "boston = datasets.load_boston()\n",
    "features = boston.data[:,0:2]\n",
    "target = boston.target\n",
    "\n",
    "# 決定木回帰器オブジェクトを作成\n",
    "decisiontree = DecisionTreeRegressor(random_state=0)\n",
    "\n",
    "# 決定木回帰器を訓練\n",
    "model = decisiontree.fit(features, target)\n",
    "\n",
    "# MAEを使って決定木回帰器の性能を評価\n",
    "decisiontree_mae = DecisionTreeRegressor(random_state=0, criterion=\"mae\")\n",
    "\n",
    "# 決定木回帰器を訓練\n",
    "model_mae = decisiontree_mae.fit(features, target)\n",
    "\n",
    "# 新しい観測値を作成\n",
    "observation = [[0.02, 16]]\n",
    "\n",
    "# 2つの回帰器を比較\n",
    "print(\"MSEを使ったモデルの予測値:\", model.predict(observation))\n",
    "print(\"MAEを使ったモデルの予測値:\", model_mae.predict(observation))\n",
    "\n"
   ]
  },
  {
   "attachments": {},
   "cell_type": "markdown",
   "metadata": {},
   "source": [
    "## 決定木モデルの可視化"
   ]
  },
  {
   "cell_type": "code",
   "execution_count": 21,
   "metadata": {},
   "outputs": [
    {
     "data": {
      "text/plain": [
       "True"
      ]
     },
     "execution_count": 21,
     "metadata": {},
     "output_type": "execute_result"
    }
   ],
   "source": [
    "iris = datasets.load_iris()\n",
    "features = iris.data\n",
    "target = iris.target\n",
    "\n",
    "# 決定木クラス分類器オブジェクトを作成\n",
    "decisiontree = DecisionTreeClassifier(random_state=0)\n",
    "\n",
    "# 決定木クラス分類器を訓練\n",
    "model = decisiontree.fit(features, target)\n",
    "\n",
    "# DOTデータを作成\n",
    "dot_data = tree.export_graphviz(\n",
    "    decisiontree,\n",
    "    out_file=None,\n",
    "    feature_names=iris.feature_names,\n",
    "    class_names=iris.target_names,\n",
    ")\n",
    "\n",
    "# グラフを表示\n",
    "graph = pydotplus.graph_from_dot_data(dot_data)\n",
    "Image(graph.create_png())\n",
    "\n",
    "# PNGファイルを作成\n",
    "graph.write_png(\"iris.png\")"
   ]
  },
  {
   "attachments": {},
   "cell_type": "markdown",
   "metadata": {},
   "source": [
    "## ランダムフォレストクラス分類機の訓練"
   ]
  },
  {
   "cell_type": "code",
   "execution_count": 23,
   "metadata": {},
   "outputs": [
    {
     "name": "stdout",
     "output_type": "stream",
     "text": [
      "[1]\n",
      "[[0.03 0.56 0.41]]\n"
     ]
    }
   ],
   "source": [
    "iris = datasets.load_iris()\n",
    "features = iris.data\n",
    "target = iris.target\n",
    "\n",
    "# ランダムフォレストクラス分類器オブジェクトを作成\n",
    "randomforest = RandomForestClassifier(random_state=0, n_jobs=-1)\n",
    "\n",
    "# ランダムフォレストクラス分類器を訓練\n",
    "model = randomforest.fit(features, target)\n",
    "\n",
    "# 新しい観測値を作成\n",
    "observation = [[ 5,  4,  3,  2]]\n",
    "\n",
    "# ランダムフォレストクラス分類器を使って観測値を予測\n",
    "print(model.predict(observation))\n",
    "\n",
    "# ランダムフォレストクラス分類器を使って観測値のクラス確率を予測\n",
    "print(model.predict_proba(observation))\n"
   ]
  },
  {
   "attachments": {},
   "cell_type": "markdown",
   "metadata": {},
   "source": [
    "## ランダムフォレストの重要な特徴量の特定"
   ]
  },
  {
   "cell_type": "code",
   "execution_count": 30,
   "metadata": {},
   "outputs": [
    {
     "name": "stdout",
     "output_type": "stream",
     "text": [
      "[0.09090795 0.02453104 0.46044474 0.42411627]\n"
     ]
    },
    {
     "data": {
      "image/png": "[encoded data removed]",
      "text/plain": [
       "<Figure size 640x480 with 1 Axes>"
      ]
     },
     "metadata": {},
     "output_type": "display_data"
    }
   ],
   "source": [
    "iris = datasets.load_iris()\n",
    "features = iris.data\n",
    "target = iris.target\n",
    "\n",
    "# ランダムフォレスト回帰器オブジェクトを作成\n",
    "randomforest = RandomForestClassifier(random_state=0, n_jobs=-1)\n",
    "\n",
    "# ランダムフォレスト回帰器を訓練\n",
    "model = randomforest.fit(features, target)\n",
    "\n",
    "# 特徴量の重要度を取得\n",
    "importances = model.feature_importances_\n",
    "print(importances)\n",
    "\n",
    "# 重要度順に特徴量のインデックスを取得\n",
    "indices = np.argsort(importances)[::-1]\n",
    "\n",
    "# 重要度順に特徴量の名前を並び替え\n",
    "names = [iris.feature_names[i] for i in indices]\n",
    "\n",
    "# グラフの設定\n",
    "plt.figure()\n",
    "\n",
    "# グラフのタイトル\n",
    "plt.title(\"Feature Importance\")\n",
    "\n",
    "# 棒グラフを追加\n",
    "plt.bar(range(features.shape[1]), importances[indices])\n",
    "\n",
    "# X軸のラベル\n",
    "plt.xticks(range(features.shape[1]), names, rotation=90)\n",
    "\n",
    "# グラフを表示\n",
    "plt.show()\n",
    "\n"
   ]
  },
  {
   "attachments": {},
   "cell_type": "markdown",
   "metadata": {},
   "source": [
    "## ランダムフォレストにおける重要な特徴量の選択"
   ]
  },
  {
   "cell_type": "code",
   "execution_count": 38,
   "metadata": {},
   "outputs": [],
   "source": [
    "iris = datasets.load_iris()\n",
    "features = iris.data\n",
    "target = iris.target\n",
    "\n",
    "# ランダムフォレストクラス分類器オブジェクトを作成\n",
    "randomforest = RandomForestClassifier(random_state=0, n_jobs=-1)\n",
    "\n",
    "# 重要度が閾値を超える特徴量だけを選択\n",
    "selector = SelectFromModel(randomforest, threshold=0.3)\n",
    "\n",
    "# 選択した特徴量を使って新しい特徴量行列を作成\n",
    "features_important = selector.fit_transform(features, target)\n",
    "\n",
    "# 選択された重要度の高い特徴量を用いてランダムフォレストクラス分類器を訓練\n",
    "model = randomforest.fit(features_important, target)\n"
   ]
  },
  {
   "attachments": {},
   "cell_type": "markdown",
   "metadata": {},
   "source": [
    "## 不均等なクラスの処理"
   ]
  },
  {
   "cell_type": "code",
   "execution_count": 39,
   "metadata": {},
   "outputs": [],
   "source": [
    "iris = datasets.load_iris()\n",
    "features = iris.data\n",
    "target = iris.target\n",
    "\n",
    "features = features[40:,:]\n",
    "target = target[40:]\n",
    "\n",
    "# クラス0をネガティブクラス(0)、それ以外をポジティブクラス(1)とする\n",
    "target = np.where((target == 0), 0, 1)\n",
    "\n",
    "# ランダムフォレストクラス分類器オブジェクトを作成\n",
    "# balancedを設定することで、データの頻度に逆比例した重みを与える\n",
    "randomforest = RandomForestClassifier(\n",
    "    random_state=0, n_jobs=-1, class_weight=\"balanced\")\n",
    "\n",
    "# ランダムフォレストクラス分類器を訓練\n",
    "model = randomforest.fit(features, target)\n"
   ]
  },
  {
   "attachments": {},
   "cell_type": "markdown",
   "metadata": {},
   "source": [
    "## 決定機のサイズの制御"
   ]
  },
  {
   "cell_type": "code",
   "execution_count": 40,
   "metadata": {},
   "outputs": [],
   "source": [
    "iris = datasets.load_iris()\n",
    "features = iris.data\n",
    "target = iris.target\n",
    "\n",
    "# 決定木クラス分類器オブジェクトを作成\n",
    "decisiontree = DecisionTreeClassifier(\n",
    "    random_state=0,\n",
    "    max_depth=None,  # 木の深さの最大値\n",
    "    min_samples_split=2,  # ノードを分割するために必要なサンプルの最小数\n",
    "    min_samples_leaf=1,  # 葉ノードが必要とする最小サンプル数\n",
    "    min_weight_fraction_leaf=0,  # 重み付けされた合計サンプルの割合\n",
    "    max_leaf_nodes=None,  # 葉ノードの最大数\n",
    "    min_impurity_decrease=0,  # 分割を行うための不純度の減少量\n",
    ")\n",
    "\n",
    "# 決定木クラス分類器を訓練\n",
    "model = decisiontree.fit(features, target)"
   ]
  },
  {
   "attachments": {},
   "cell_type": "markdown",
   "metadata": {},
   "source": [
    "## ブースティングによる性能の向上"
   ]
  },
  {
   "cell_type": "code",
   "execution_count": 44,
   "metadata": {},
   "outputs": [],
   "source": [
    "iris = datasets.load_iris()\n",
    "features = iris.data\n",
    "target = iris.target\n",
    "\n",
    "# adaブースティング木クラス分類器オブジェクトを作成\n",
    "adaboost = AdaBoostClassifier(random_state=0)\n",
    "\n",
    "# adaブースティング木クラス分類器を訓練\n",
    "model = adaboost.fit(features, target)\n"
   ]
  },
  {
   "attachments": {},
   "cell_type": "markdown",
   "metadata": {},
   "source": [
    "## OOBエラーによる評価\n",
    "交差検証を用いずにランダムフォレストモデルを評価できる"
   ]
  },
  {
   "cell_type": "code",
   "execution_count": 45,
   "metadata": {},
   "outputs": [
    {
     "name": "stdout",
     "output_type": "stream",
     "text": [
      "0.9533333333333334\n"
     ]
    }
   ],
   "source": [
    "iris = datasets.load_iris()\n",
    "features = iris.data\n",
    "target = iris.target\n",
    "\n",
    "# らんだむフォレストクラス分類器オブジェクトを作成\n",
    "randomforest = RandomForestClassifier(\n",
    "    random_state=0, n_estimators=1000, oob_score=True, n_jobs=-1)\n",
    "\n",
    "# ランダムフォレストクラス分類器を訓練\n",
    "model = randomforest.fit(features, target)\n",
    "\n",
    "# out-of-bag(袋外)サンプルのクラス予測確率を取得\n",
    "print(model.oob_score_)\n"
   ]
  }
 ],
 "metadata": {
  "kernelspec": {
   "display_name": "Python 3",
   "language": "python",
   "name": "python3"
  },
  "language_info": {
   "codemirror_mode": {
    "name": "ipython",
    "version": 3
   },
   "file_extension": ".py",
   "mimetype": "text/x-python",
   "name": "python",
   "nbconvert_exporter": "python",
   "pygments_lexer": "ipython3",
   "version": "3.8.10"
  },
  "orig_nbformat": 4
 },
 "nbformat": 4,
 "nbformat_minor": 2
}
